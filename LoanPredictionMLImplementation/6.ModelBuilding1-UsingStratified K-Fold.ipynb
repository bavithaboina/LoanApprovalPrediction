{
 "cells": [
  {
   "cell_type": "markdown",
   "id": "92f57982",
   "metadata": {},
   "source": [
    "To check how robust our model is to unseen data, we can use Validation. It is a technique that involves reserving a particular sample of a dataset on which you do not train the model. Later, you test your model on this sample before finalizing it. Some of the common methods for validation are listed below:\n",
    "\n",
    "The validation set approach\n",
    "\n",
    "1. Hold Out -- (train test split)\n",
    "2. k-fold cross-validation\n",
    "3. Leave one out cross-validation (LOOCV)\n",
    "4. Stratified k-fold cross-validation\n",
    "\n",
    "In this section we will learn about stratified k-fold cross-validation. . Let us understand how it works:\n",
    "\n",
    "* Stratification is the process of rearranging the data so as to ensure that each fold is a good representative of the whole.\n",
    "* For example, in a binary classification problem where each class comprises 50% of the data, it is best to arrange the data such that in every fold, each class comprises about half the instances.\n",
    "* It is generally a better approach when dealing with both bias and variance.\n",
    "* A randomly selected fold might not adequately represent the minor class, particularly in cases where there is a huge class imbalance.\n"
   ]
  },
  {
   "cell_type": "code",
   "execution_count": 1,
   "id": "e92ddaee",
   "metadata": {},
   "outputs": [],
   "source": [
    "import pandas as pd \n",
    "import numpy as np                     # For mathematical calculations \n",
    "import seaborn as sns                  # For data visualization \n",
    "import matplotlib.pyplot as plt        # For plotting graphs \n",
    "%matplotlib inline \n",
    "import warnings                        # To ignore any warnings\n",
    "warnings.filterwarnings(\"ignore\")"
   ]
  },
  {
   "cell_type": "code",
   "execution_count": 2,
   "id": "fea9fdf6",
   "metadata": {},
   "outputs": [],
   "source": [
    "train=pd.read_csv(\"train_FE1.csv\") \n",
    "test=pd.read_csv(\"test_FE1.csv\")\n",
    "train=train.drop('Loan_ID',axis=1) \n",
    "test=test.drop('Loan_ID',axis=1)"
   ]
  },
  {
   "cell_type": "code",
   "execution_count": 3,
   "id": "d903383e",
   "metadata": {},
   "outputs": [],
   "source": [
    "X = train.drop('Loan_Status',1) \n",
    "y = train.Loan_Status"
   ]
  },
  {
   "cell_type": "code",
   "execution_count": 4,
   "id": "d36f45ef",
   "metadata": {},
   "outputs": [],
   "source": [
    "#Let’s import StratifiedKFold from sklearn and fit the model.\n",
    "\n",
    "from sklearn.model_selection import StratifiedKFold"
   ]
  },
  {
   "cell_type": "code",
   "execution_count": 8,
   "id": "c4e21c1a",
   "metadata": {},
   "outputs": [],
   "source": [
    "from sklearn.linear_model import LogisticRegression\n",
    "from sklearn.metrics import accuracy_score"
   ]
  },
  {
   "cell_type": "code",
   "execution_count": 9,
   "id": "415f0116",
   "metadata": {},
   "outputs": [
    {
     "name": "stdout",
     "output_type": "stream",
     "text": [
      "n1 of kfold 5\n",
      "accuracy_score 0.8048780487804879\n",
      "n2 of kfold 5\n",
      "accuracy_score 0.8373983739837398\n",
      "n3 of kfold 5\n",
      "accuracy_score 0.7804878048780488\n",
      "n4 of kfold 5\n",
      "accuracy_score 0.7886178861788617\n",
      "n5 of kfold 5\n",
      "accuracy_score 0.7950819672131147\n"
     ]
    }
   ],
   "source": [
    "i=1\n",
    "kf = StratifiedKFold(n_splits=5,random_state=1,shuffle=True) \n",
    "for train_index,test_index in kf.split(X,y):\n",
    "     print('n{} of kfold {}'.format(i,kf.n_splits))\n",
    "     xtr,xvl = X.iloc[train_index],X.iloc[test_index]\n",
    "     ytr,yvl = y.iloc[train_index],y.iloc[test_index]\n",
    "     model = LogisticRegression(random_state=1)\n",
    "     model.fit(xtr, ytr)\n",
    "     pred_test = model.predict(xvl)\n",
    "     score = accuracy_score(yvl,pred_test)\n",
    "     print('accuracy_score',score)\n",
    "     i+=1\n",
    "\n",
    "pred_test = model.predict(test)\n",
    "pred=model.predict_proba(xvl)[:,1]"
   ]
  },
  {
   "cell_type": "code",
   "execution_count": 12,
   "id": "4b51b3db",
   "metadata": {},
   "outputs": [
    {
     "data": {
      "text/plain": [
       "1    303\n",
       "0     64\n",
       "dtype: int64"
      ]
     },
     "execution_count": 12,
     "metadata": {},
     "output_type": "execute_result"
    }
   ],
   "source": [
    "pd.DataFrame(pred_test).value_counts()"
   ]
  },
  {
   "cell_type": "markdown",
   "id": "f6f05732",
   "metadata": {},
   "source": [
    "### The mean validation accuracy for this model turns out to be 0.81. Let us visualize the roc curve."
   ]
  },
  {
   "cell_type": "code",
   "execution_count": 17,
   "id": "0e165b07",
   "metadata": {},
   "outputs": [
    {
     "name": "stdout",
     "output_type": "stream",
     "text": [
      "auc 0.7349624060150376\n"
     ]
    },
    {
     "data": {
      "image/png": "[encoded data removed]",
      "text/plain": [
       "<Figure size 504x360 with 1 Axes>"
      ]
     },
     "metadata": {
      "needs_background": "light"
     },
     "output_type": "display_data"
    }
   ],
   "source": [
    "from sklearn import metrics\n",
    "fpr, tpr, _ = metrics.roc_curve(yvl,  pred)\n",
    "auc = metrics.roc_auc_score(yvl, pred) \n",
    "print(\"auc\",auc)\n",
    "plt.figure(figsize=(7,5)) \n",
    "plt.plot(fpr,tpr,label=\"validation, auc=\"+str(auc))\n",
    "plt.xlabel('False Positive Rate')\n",
    "plt.ylabel('True Positive Rate') \n",
    "plt.legend(loc=4) \n",
    "plt.show()"
   ]
  },
  {
   "cell_type": "code",
   "execution_count": 19,
   "id": "d24a2870",
   "metadata": {},
   "outputs": [
    {
     "data": {
      "text/plain": [
       "array([1, 1, 1, 1, 1, 1, 1, 0, 1, 1, 1, 1, 1, 0, 1, 1, 1, 1, 1, 1, 1, 1,\n",
       "       1, 1, 1, 0, 1, 1, 1, 1, 1, 1, 1, 1, 1, 0, 1, 1, 1, 1, 1, 1, 1, 1,\n",
       "       1, 1, 1, 1, 1, 1, 1, 1, 1, 1, 1, 0, 0, 1, 0, 1, 1, 1, 1, 0, 1, 1,\n",
       "       0, 0, 1, 0, 1, 1, 1, 1, 1, 1, 1, 1, 1, 1, 0, 1, 0, 1, 1, 1, 1, 1,\n",
       "       1, 1, 1, 1, 1, 1, 0, 1, 1, 1, 1, 1, 1, 0, 1, 1, 1, 1, 0, 1, 1, 1,\n",
       "       1, 1, 1, 1, 1, 1, 1, 0, 0, 0, 1, 1, 1, 0, 0, 1, 0, 1, 1, 1, 1, 1,\n",
       "       1, 1, 1, 1, 1, 1, 1, 1, 0, 1, 0, 1, 1, 1, 1, 0, 1, 1, 1, 1, 1, 0,\n",
       "       1, 1, 1, 1, 1, 1, 1, 0, 1, 1, 1, 0, 0, 1, 0, 1, 1, 1, 1, 0, 0, 1,\n",
       "       1, 1, 1, 1, 1, 1, 1, 1, 1, 1, 1, 1, 1, 1, 1, 1, 0, 0, 1, 1, 0, 1,\n",
       "       0, 1, 1, 1, 1, 1, 1, 1, 1, 1, 1, 0, 1, 0, 1, 1, 1, 1, 1, 1, 1, 1,\n",
       "       1, 1, 1, 1, 0, 1, 1, 1, 1, 0, 1, 1, 1, 1, 1, 0, 0, 0, 1, 1, 1, 0,\n",
       "       1, 0, 1, 0, 1, 1, 1, 1, 0, 1, 1, 1, 1, 0, 1, 1, 1, 1, 1, 1, 1, 1,\n",
       "       1, 1, 0, 0, 0, 1, 1, 1, 1, 0, 0, 1, 1, 1, 0, 1, 1, 1, 1, 1, 1, 1,\n",
       "       1, 1, 1, 1, 1, 1, 1, 0, 1, 1, 1, 1, 1, 1, 1, 0, 1, 1, 1, 1, 1, 1,\n",
       "       1, 1, 1, 0, 1, 1, 1, 1, 1, 0, 0, 1, 1, 1, 1, 1, 1, 0, 1, 1, 1, 1,\n",
       "       1, 1, 1, 1, 1, 1, 1, 1, 1, 0, 1, 1, 1, 1, 1, 1, 0, 1, 1, 1, 1, 0,\n",
       "       1, 1, 0, 1, 1, 1, 1, 1, 1, 1, 1, 1, 1, 1, 1], dtype=int64)"
      ]
     },
     "execution_count": 19,
     "metadata": {},
     "output_type": "execute_result"
    }
   ],
   "source": [
    "pred_test"
   ]
  },
  {
   "cell_type": "markdown",
   "id": "7dfcf364",
   "metadata": {},
   "source": [
    "From this submission, we got an accuracy of 0.78472 on the leaderboard. Now we will try to improve this accuracy using different approaches."
   ]
  },
  {
   "cell_type": "code",
   "execution_count": null,
   "id": "ef65b07d",
   "metadata": {},
   "outputs": [],
   "source": []
  },
  {
   "cell_type": "code",
   "execution_count": null,
   "id": "62c2dca9",
   "metadata": {},
   "outputs": [],
   "source": []
  },
  {
   "cell_type": "code",
   "execution_count": 11,
   "id": "29b829d6",
   "metadata": {},
   "outputs": [
    {
     "name": "stdout",
     "output_type": "stream",
     "text": [
      "(array([  0,   1,   2,   4,   6,   8,   9,  10,  11,  13,  14,  15,  16,\n",
      "        17,  18,  19,  20,  21,  22,  24,  25,  26,  27,  32,  33,  34,\n",
      "        35,  37,  38,  40,  41,  42,  43,  44,  45,  46,  47,  48,  49,\n",
      "        50,  51,  52,  53,  54,  55,  56,  57,  59,  60,  61,  62,  63,\n",
      "        64,  65,  67,  68,  69,  70,  71,  72,  73,  74,  75,  76,  77,\n",
      "        78,  79,  80,  81,  84,  86,  87,  88,  90,  91,  92,  93,  94,\n",
      "        95,  97,  99, 100, 102, 103, 105, 106, 107, 108, 111, 113, 114,\n",
      "       115, 116, 117, 118, 119, 120, 121, 122, 124, 125, 126, 127, 128,\n",
      "       129, 130, 131, 132, 134, 135, 136, 137, 138, 139, 140, 141, 142,\n",
      "       143, 145, 146, 147, 148, 149, 150, 151, 152, 153, 154, 156, 158,\n",
      "       160, 162, 163, 164, 166, 167, 168, 169, 170, 171, 173, 174, 175,\n",
      "       176, 178, 179, 180, 181, 182, 184, 185, 186, 187, 188, 190, 191,\n",
      "       192, 193, 195, 196, 197, 199, 201, 202, 203, 204, 205, 206, 207,\n",
      "       210, 211, 212, 214, 215, 216, 217, 218, 219, 220, 221, 222, 223,\n",
      "       224, 225, 226, 227, 228, 229, 230, 231, 233, 234, 235, 236, 237,\n",
      "       238, 240, 241, 243, 245, 246, 248, 249, 250, 251, 252, 253, 256,\n",
      "       257, 258, 259, 260, 262, 263, 264, 265, 266, 267, 268, 269, 270,\n",
      "       271, 272, 274, 275, 276, 277, 278, 279, 280, 281, 282, 283, 284,\n",
      "       285, 286, 287, 288, 289, 290, 291, 294, 295, 296, 298, 299, 300,\n",
      "       301, 302, 303, 305, 306, 307, 308, 309, 310, 312, 313, 314, 315,\n",
      "       316, 317, 318, 319, 320, 322, 323, 325, 327, 329, 330, 331, 332,\n",
      "       333, 336, 339, 340, 341, 343, 345, 346, 347, 348, 350, 351, 352,\n",
      "       355, 358, 359, 360, 361, 363, 365, 366, 367, 368, 370, 371, 372,\n",
      "       373, 374, 376, 377, 378, 379, 381, 382, 383, 384, 386, 387, 388,\n",
      "       389, 390, 391, 392, 393, 394, 395, 397, 399, 400, 401, 402, 403,\n",
      "       404, 405, 406, 407, 408, 409, 411, 412, 413, 415, 417, 418, 419,\n",
      "       420, 423, 424, 425, 426, 427, 428, 429, 430, 431, 432, 433, 434,\n",
      "       436, 437, 439, 440, 441, 442, 443, 445, 446, 448, 449, 450, 451,\n",
      "       453, 455, 456, 457, 459, 460, 462, 464, 465, 466, 468, 469, 470,\n",
      "       471, 472, 473, 476, 477, 478, 479, 480, 481, 482, 483, 484, 485,\n",
      "       486, 487, 488, 491, 492, 493, 494, 495, 496, 497, 498, 499, 500,\n",
      "       501, 502, 505, 506, 507, 508, 509, 511, 512, 513, 514, 515, 516,\n",
      "       518, 519, 520, 521, 522, 524, 525, 528, 529, 530, 531, 532, 533,\n",
      "       537, 538, 540, 541, 543, 545, 546, 547, 548, 549, 550, 551, 552,\n",
      "       553, 554, 555, 556, 557, 559, 561, 562, 564, 565, 566, 567, 568,\n",
      "       570, 571, 572, 573, 574, 575, 576, 579, 580, 581, 582, 585, 586,\n",
      "       587, 588, 589, 590, 591, 592, 593, 594, 595, 597, 598, 600, 601,\n",
      "       602, 603, 604, 605, 606, 607, 608, 610, 611, 613]), array([  3,   5,   7,  12,  23,  28,  29,  30,  31,  36,  39,  58,  66,\n",
      "        82,  83,  85,  89,  96,  98, 101, 104, 109, 110, 112, 123, 133,\n",
      "       144, 155, 157, 159, 161, 165, 172, 177, 183, 189, 194, 198, 200,\n",
      "       208, 209, 213, 232, 239, 242, 244, 247, 254, 255, 261, 273, 292,\n",
      "       293, 297, 304, 311, 321, 324, 326, 328, 334, 335, 337, 338, 342,\n",
      "       344, 349, 353, 354, 356, 357, 362, 364, 369, 375, 380, 385, 396,\n",
      "       398, 410, 414, 416, 421, 422, 435, 438, 444, 447, 452, 454, 458,\n",
      "       461, 463, 467, 474, 475, 489, 490, 503, 504, 510, 517, 523, 526,\n",
      "       527, 534, 535, 536, 539, 542, 544, 558, 560, 563, 569, 577, 578,\n",
      "       583, 584, 596, 599, 609, 612]))\n",
      "(array([  0,   1,   3,   4,   5,   6,   7,   8,  10,  11,  12,  15,  16,\n",
      "        19,  20,  22,  23,  24,  25,  26,  27,  28,  29,  30,  31,  32,\n",
      "        33,  34,  35,  36,  37,  38,  39,  40,  41,  42,  43,  44,  45,\n",
      "        46,  47,  48,  49,  50,  51,  52,  55,  56,  57,  58,  59,  60,\n",
      "        62,  63,  64,  66,  70,  71,  73,  74,  75,  76,  77,  78,  79,\n",
      "        81,  82,  83,  84,  85,  86,  87,  89,  90,  91,  92,  94,  95,\n",
      "        96,  97,  98, 100, 101, 102, 104, 105, 106, 107, 108, 109, 110,\n",
      "       111, 112, 113, 116, 117, 118, 119, 120, 122, 123, 124, 125, 126,\n",
      "       128, 129, 130, 131, 132, 133, 134, 135, 136, 137, 138, 139, 140,\n",
      "       142, 143, 144, 146, 150, 151, 152, 154, 155, 156, 157, 158, 159,\n",
      "       160, 161, 163, 165, 166, 167, 169, 170, 171, 172, 174, 175, 176,\n",
      "       177, 178, 179, 181, 182, 183, 184, 185, 186, 187, 188, 189, 190,\n",
      "       191, 193, 194, 195, 197, 198, 199, 200, 201, 202, 204, 206, 208,\n",
      "       209, 210, 213, 214, 215, 217, 218, 219, 220, 221, 222, 223, 224,\n",
      "       225, 226, 227, 231, 232, 233, 234, 236, 239, 241, 242, 243, 244,\n",
      "       245, 246, 247, 249, 250, 251, 252, 253, 254, 255, 256, 257, 259,\n",
      "       260, 261, 262, 264, 267, 269, 270, 272, 273, 275, 276, 277, 278,\n",
      "       279, 281, 282, 283, 284, 285, 286, 287, 289, 292, 293, 294, 296,\n",
      "       297, 298, 300, 302, 304, 305, 308, 310, 311, 312, 314, 315, 316,\n",
      "       318, 319, 321, 322, 323, 324, 325, 326, 327, 328, 330, 331, 332,\n",
      "       333, 334, 335, 336, 337, 338, 339, 340, 341, 342, 343, 344, 345,\n",
      "       346, 347, 348, 349, 350, 352, 353, 354, 355, 356, 357, 360, 362,\n",
      "       363, 364, 366, 367, 368, 369, 370, 371, 372, 373, 374, 375, 376,\n",
      "       377, 378, 379, 380, 381, 382, 385, 386, 387, 388, 391, 392, 393,\n",
      "       394, 395, 396, 397, 398, 399, 400, 402, 403, 404, 405, 406, 409,\n",
      "       410, 412, 413, 414, 416, 417, 418, 419, 420, 421, 422, 423, 424,\n",
      "       425, 426, 427, 428, 429, 431, 432, 434, 435, 437, 438, 441, 443,\n",
      "       444, 445, 447, 448, 450, 451, 452, 453, 454, 455, 456, 457, 458,\n",
      "       459, 460, 461, 462, 463, 465, 466, 467, 468, 469, 470, 473, 474,\n",
      "       475, 476, 478, 479, 480, 481, 482, 484, 485, 487, 488, 489, 490,\n",
      "       491, 492, 494, 495, 497, 498, 499, 500, 503, 504, 505, 507, 508,\n",
      "       510, 511, 512, 514, 515, 517, 518, 519, 521, 522, 523, 524, 525,\n",
      "       526, 527, 528, 530, 531, 532, 533, 534, 535, 536, 537, 538, 539,\n",
      "       540, 541, 542, 543, 544, 548, 549, 550, 551, 552, 554, 555, 556,\n",
      "       557, 558, 559, 560, 561, 562, 563, 564, 567, 568, 569, 570, 571,\n",
      "       572, 574, 575, 576, 577, 578, 579, 581, 582, 583, 584, 585, 586,\n",
      "       587, 588, 589, 590, 591, 592, 593, 594, 595, 596, 598, 599, 600,\n",
      "       603, 605, 606, 607, 608, 609, 610, 611, 612, 613]), array([  2,   9,  13,  14,  17,  18,  21,  53,  54,  61,  65,  67,  68,\n",
      "        69,  72,  80,  88,  93,  99, 103, 114, 115, 121, 127, 141, 145,\n",
      "       147, 148, 149, 153, 162, 164, 168, 173, 180, 192, 196, 203, 205,\n",
      "       207, 211, 212, 216, 228, 229, 230, 235, 237, 238, 240, 248, 258,\n",
      "       263, 265, 266, 268, 271, 274, 280, 288, 290, 291, 295, 299, 301,\n",
      "       303, 306, 307, 309, 313, 317, 320, 329, 351, 358, 359, 361, 365,\n",
      "       383, 384, 389, 390, 401, 407, 408, 411, 415, 430, 433, 436, 439,\n",
      "       440, 442, 446, 449, 464, 471, 472, 477, 483, 486, 493, 496, 501,\n",
      "       502, 506, 509, 513, 516, 520, 529, 545, 546, 547, 553, 565, 566,\n",
      "       573, 580, 597, 601, 602, 604]))\n",
      "(array([  0,   1,   2,   3,   5,   7,   9,  10,  11,  12,  13,  14,  16,\n",
      "        17,  18,  19,  21,  23,  24,  27,  28,  29,  30,  31,  32,  35,\n",
      "        36,  37,  39,  40,  41,  42,  43,  44,  45,  48,  49,  50,  51,\n",
      "        53,  54,  55,  56,  58,  59,  61,  63,  64,  65,  66,  67,  68,\n",
      "        69,  70,  71,  72,  73,  74,  75,  76,  77,  79,  80,  81,  82,\n",
      "        83,  84,  85,  86,  88,  89,  90,  92,  93,  94,  95,  96,  97,\n",
      "        98,  99, 101, 102, 103, 104, 107, 108, 109, 110, 111, 112, 114,\n",
      "       115, 116, 117, 118, 119, 121, 122, 123, 124, 127, 130, 131, 133,\n",
      "       134, 135, 136, 137, 138, 141, 142, 143, 144, 145, 147, 148, 149,\n",
      "       150, 151, 153, 154, 155, 156, 157, 158, 159, 161, 162, 163, 164,\n",
      "       165, 167, 168, 170, 172, 173, 174, 175, 177, 178, 179, 180, 181,\n",
      "       182, 183, 185, 186, 187, 188, 189, 190, 191, 192, 194, 195, 196,\n",
      "       197, 198, 199, 200, 201, 202, 203, 205, 206, 207, 208, 209, 211,\n",
      "       212, 213, 214, 215, 216, 217, 218, 219, 222, 223, 224, 227, 228,\n",
      "       229, 230, 231, 232, 233, 234, 235, 237, 238, 239, 240, 241, 242,\n",
      "       244, 247, 248, 249, 251, 253, 254, 255, 256, 257, 258, 259, 260,\n",
      "       261, 263, 264, 265, 266, 267, 268, 270, 271, 273, 274, 275, 278,\n",
      "       279, 280, 281, 282, 283, 285, 286, 287, 288, 290, 291, 292, 293,\n",
      "       295, 297, 298, 299, 300, 301, 302, 303, 304, 306, 307, 308, 309,\n",
      "       310, 311, 312, 313, 314, 315, 317, 318, 319, 320, 321, 322, 323,\n",
      "       324, 325, 326, 328, 329, 330, 331, 332, 334, 335, 336, 337, 338,\n",
      "       339, 340, 341, 342, 343, 344, 345, 346, 347, 348, 349, 351, 352,\n",
      "       353, 354, 355, 356, 357, 358, 359, 361, 362, 364, 365, 367, 368,\n",
      "       369, 370, 371, 374, 375, 378, 379, 380, 383, 384, 385, 387, 389,\n",
      "       390, 392, 393, 394, 396, 398, 400, 401, 402, 403, 405, 407, 408,\n",
      "       409, 410, 411, 412, 413, 414, 415, 416, 417, 418, 420, 421, 422,\n",
      "       423, 426, 429, 430, 433, 434, 435, 436, 438, 439, 440, 442, 443,\n",
      "       444, 445, 446, 447, 448, 449, 450, 452, 454, 455, 456, 457, 458,\n",
      "       459, 460, 461, 462, 463, 464, 467, 468, 470, 471, 472, 473, 474,\n",
      "       475, 476, 477, 479, 480, 481, 483, 484, 485, 486, 487, 489, 490,\n",
      "       492, 493, 494, 496, 497, 498, 499, 500, 501, 502, 503, 504, 505,\n",
      "       506, 508, 509, 510, 512, 513, 515, 516, 517, 518, 520, 521, 523,\n",
      "       524, 526, 527, 528, 529, 530, 531, 532, 533, 534, 535, 536, 537,\n",
      "       538, 539, 540, 541, 542, 543, 544, 545, 546, 547, 549, 550, 552,\n",
      "       553, 554, 556, 557, 558, 559, 560, 561, 562, 563, 565, 566, 568,\n",
      "       569, 570, 571, 573, 574, 576, 577, 578, 579, 580, 581, 583, 584,\n",
      "       586, 587, 588, 589, 590, 591, 592, 594, 595, 596, 597, 599, 600,\n",
      "       601, 602, 603, 604, 605, 607, 608, 609, 610, 612]), array([  4,   6,   8,  15,  20,  22,  25,  26,  33,  34,  38,  46,  47,\n",
      "        52,  57,  60,  62,  78,  87,  91, 100, 105, 106, 113, 120, 125,\n",
      "       126, 128, 129, 132, 139, 140, 146, 152, 160, 166, 169, 171, 176,\n",
      "       184, 193, 204, 210, 220, 221, 225, 226, 236, 243, 245, 246, 250,\n",
      "       252, 262, 269, 272, 276, 277, 284, 289, 294, 296, 305, 316, 327,\n",
      "       333, 350, 360, 363, 366, 372, 373, 376, 377, 381, 382, 386, 388,\n",
      "       391, 395, 397, 399, 404, 406, 419, 424, 425, 427, 428, 431, 432,\n",
      "       437, 441, 451, 453, 465, 466, 469, 478, 482, 488, 491, 495, 507,\n",
      "       511, 514, 519, 522, 525, 548, 551, 555, 564, 567, 572, 575, 582,\n",
      "       585, 593, 598, 606, 611, 613]))\n",
      "(array([  0,   2,   3,   4,   5,   6,   7,   8,   9,  10,  12,  13,  14,\n",
      "        15,  17,  18,  19,  20,  21,  22,  23,  24,  25,  26,  28,  29,\n",
      "        30,  31,  33,  34,  36,  37,  38,  39,  43,  44,  45,  46,  47,\n",
      "        50,  52,  53,  54,  55,  57,  58,  59,  60,  61,  62,  65,  66,\n",
      "        67,  68,  69,  70,  71,  72,  73,  75,  78,  79,  80,  82,  83,\n",
      "        85,  87,  88,  89,  90,  91,  93,  94,  95,  96,  97,  98,  99,\n",
      "       100, 101, 103, 104, 105, 106, 107, 108, 109, 110, 112, 113, 114,\n",
      "       115, 117, 118, 119, 120, 121, 123, 124, 125, 126, 127, 128, 129,\n",
      "       130, 131, 132, 133, 134, 135, 138, 139, 140, 141, 144, 145, 146,\n",
      "       147, 148, 149, 150, 151, 152, 153, 155, 157, 158, 159, 160, 161,\n",
      "       162, 163, 164, 165, 166, 167, 168, 169, 170, 171, 172, 173, 174,\n",
      "       175, 176, 177, 179, 180, 181, 182, 183, 184, 185, 186, 189, 190,\n",
      "       191, 192, 193, 194, 195, 196, 198, 199, 200, 201, 202, 203, 204,\n",
      "       205, 207, 208, 209, 210, 211, 212, 213, 215, 216, 218, 220, 221,\n",
      "       222, 224, 225, 226, 227, 228, 229, 230, 232, 235, 236, 237, 238,\n",
      "       239, 240, 241, 242, 243, 244, 245, 246, 247, 248, 250, 251, 252,\n",
      "       253, 254, 255, 256, 257, 258, 259, 261, 262, 263, 264, 265, 266,\n",
      "       268, 269, 270, 271, 272, 273, 274, 275, 276, 277, 279, 280, 282,\n",
      "       284, 285, 287, 288, 289, 290, 291, 292, 293, 294, 295, 296, 297,\n",
      "       298, 299, 301, 302, 303, 304, 305, 306, 307, 309, 310, 311, 313,\n",
      "       316, 317, 318, 320, 321, 322, 324, 326, 327, 328, 329, 330, 331,\n",
      "       333, 334, 335, 337, 338, 339, 342, 344, 345, 348, 349, 350, 351,\n",
      "       352, 353, 354, 355, 356, 357, 358, 359, 360, 361, 362, 363, 364,\n",
      "       365, 366, 369, 370, 372, 373, 374, 375, 376, 377, 380, 381, 382,\n",
      "       383, 384, 385, 386, 387, 388, 389, 390, 391, 392, 393, 395, 396,\n",
      "       397, 398, 399, 400, 401, 404, 406, 407, 408, 410, 411, 414, 415,\n",
      "       416, 417, 418, 419, 420, 421, 422, 424, 425, 426, 427, 428, 429,\n",
      "       430, 431, 432, 433, 435, 436, 437, 438, 439, 440, 441, 442, 443,\n",
      "       444, 446, 447, 449, 451, 452, 453, 454, 457, 458, 460, 461, 462,\n",
      "       463, 464, 465, 466, 467, 469, 470, 471, 472, 473, 474, 475, 477,\n",
      "       478, 482, 483, 484, 486, 487, 488, 489, 490, 491, 492, 493, 494,\n",
      "       495, 496, 497, 501, 502, 503, 504, 505, 506, 507, 509, 510, 511,\n",
      "       513, 514, 515, 516, 517, 518, 519, 520, 522, 523, 525, 526, 527,\n",
      "       529, 533, 534, 535, 536, 539, 540, 541, 542, 543, 544, 545, 546,\n",
      "       547, 548, 549, 551, 553, 554, 555, 557, 558, 560, 563, 564, 565,\n",
      "       566, 567, 569, 570, 572, 573, 574, 575, 576, 577, 578, 579, 580,\n",
      "       582, 583, 584, 585, 586, 587, 588, 593, 595, 596, 597, 598, 599,\n",
      "       601, 602, 604, 606, 607, 609, 610, 611, 612, 613]), array([  1,  11,  16,  27,  32,  35,  40,  41,  42,  48,  49,  51,  56,\n",
      "        63,  64,  74,  76,  77,  81,  84,  86,  92, 102, 111, 116, 122,\n",
      "       136, 137, 142, 143, 154, 156, 178, 187, 188, 197, 206, 214, 217,\n",
      "       219, 223, 231, 233, 234, 249, 260, 267, 278, 281, 283, 286, 300,\n",
      "       308, 312, 314, 315, 319, 323, 325, 332, 336, 340, 341, 343, 346,\n",
      "       347, 367, 368, 371, 378, 379, 394, 402, 403, 405, 409, 412, 413,\n",
      "       423, 434, 445, 448, 450, 455, 456, 459, 468, 476, 479, 480, 481,\n",
      "       485, 498, 499, 500, 508, 512, 521, 524, 528, 530, 531, 532, 537,\n",
      "       538, 550, 552, 556, 559, 561, 562, 568, 571, 581, 589, 590, 591,\n",
      "       592, 594, 600, 603, 605, 608]))\n",
      "(array([  1,   2,   3,   4,   5,   6,   7,   8,   9,  11,  12,  13,  14,\n",
      "        15,  16,  17,  18,  20,  21,  22,  23,  25,  26,  27,  28,  29,\n",
      "        30,  31,  32,  33,  34,  35,  36,  38,  39,  40,  41,  42,  46,\n",
      "        47,  48,  49,  51,  52,  53,  54,  56,  57,  58,  60,  61,  62,\n",
      "        63,  64,  65,  66,  67,  68,  69,  72,  74,  76,  77,  78,  80,\n",
      "        81,  82,  83,  84,  85,  86,  87,  88,  89,  91,  92,  93,  96,\n",
      "        98,  99, 100, 101, 102, 103, 104, 105, 106, 109, 110, 111, 112,\n",
      "       113, 114, 115, 116, 120, 121, 122, 123, 125, 126, 127, 128, 129,\n",
      "       132, 133, 136, 137, 139, 140, 141, 142, 143, 144, 145, 146, 147,\n",
      "       148, 149, 152, 153, 154, 155, 156, 157, 159, 160, 161, 162, 164,\n",
      "       165, 166, 168, 169, 171, 172, 173, 176, 177, 178, 180, 183, 184,\n",
      "       187, 188, 189, 192, 193, 194, 196, 197, 198, 200, 203, 204, 205,\n",
      "       206, 207, 208, 209, 210, 211, 212, 213, 214, 216, 217, 219, 220,\n",
      "       221, 223, 225, 226, 228, 229, 230, 231, 232, 233, 234, 235, 236,\n",
      "       237, 238, 239, 240, 242, 243, 244, 245, 246, 247, 248, 249, 250,\n",
      "       252, 254, 255, 258, 260, 261, 262, 263, 265, 266, 267, 268, 269,\n",
      "       271, 272, 273, 274, 276, 277, 278, 280, 281, 283, 284, 286, 288,\n",
      "       289, 290, 291, 292, 293, 294, 295, 296, 297, 299, 300, 301, 303,\n",
      "       304, 305, 306, 307, 308, 309, 311, 312, 313, 314, 315, 316, 317,\n",
      "       319, 320, 321, 323, 324, 325, 326, 327, 328, 329, 332, 333, 334,\n",
      "       335, 336, 337, 338, 340, 341, 342, 343, 344, 346, 347, 349, 350,\n",
      "       351, 353, 354, 356, 357, 358, 359, 360, 361, 362, 363, 364, 365,\n",
      "       366, 367, 368, 369, 371, 372, 373, 375, 376, 377, 378, 379, 380,\n",
      "       381, 382, 383, 384, 385, 386, 388, 389, 390, 391, 394, 395, 396,\n",
      "       397, 398, 399, 401, 402, 403, 404, 405, 406, 407, 408, 409, 410,\n",
      "       411, 412, 413, 414, 415, 416, 419, 421, 422, 423, 424, 425, 427,\n",
      "       428, 430, 431, 432, 433, 434, 435, 436, 437, 438, 439, 440, 441,\n",
      "       442, 444, 445, 446, 447, 448, 449, 450, 451, 452, 453, 454, 455,\n",
      "       456, 458, 459, 461, 463, 464, 465, 466, 467, 468, 469, 471, 472,\n",
      "       474, 475, 476, 477, 478, 479, 480, 481, 482, 483, 485, 486, 488,\n",
      "       489, 490, 491, 493, 495, 496, 498, 499, 500, 501, 502, 503, 504,\n",
      "       506, 507, 508, 509, 510, 511, 512, 513, 514, 516, 517, 519, 520,\n",
      "       521, 522, 523, 524, 525, 526, 527, 528, 529, 530, 531, 532, 534,\n",
      "       535, 536, 537, 538, 539, 542, 544, 545, 546, 547, 548, 550, 551,\n",
      "       552, 553, 555, 556, 558, 559, 560, 561, 562, 563, 564, 565, 566,\n",
      "       567, 568, 569, 571, 572, 573, 575, 577, 578, 580, 581, 582, 583,\n",
      "       584, 585, 589, 590, 591, 592, 593, 594, 596, 597, 598, 599, 600,\n",
      "       601, 602, 603, 604, 605, 606, 608, 609, 611, 612, 613]), array([  0,  10,  19,  24,  37,  43,  44,  45,  50,  55,  59,  70,  71,\n",
      "        73,  75,  79,  90,  94,  95,  97, 107, 108, 117, 118, 119, 124,\n",
      "       130, 131, 134, 135, 138, 150, 151, 158, 163, 167, 170, 174, 175,\n",
      "       179, 181, 182, 185, 186, 190, 191, 195, 199, 201, 202, 215, 218,\n",
      "       222, 224, 227, 241, 251, 253, 256, 257, 259, 264, 270, 275, 279,\n",
      "       282, 285, 287, 298, 302, 310, 318, 322, 330, 331, 339, 345, 348,\n",
      "       352, 355, 370, 374, 387, 392, 393, 400, 417, 418, 420, 426, 429,\n",
      "       443, 457, 460, 462, 470, 473, 484, 487, 492, 494, 497, 505, 515,\n",
      "       518, 533, 540, 541, 543, 549, 554, 557, 570, 574, 576, 579, 586,\n",
      "       587, 588, 595, 607, 610]))\n"
     ]
    }
   ],
   "source": [
    "for value in kf.split(X,y):\n",
    "    print(value)"
   ]
  },
  {
   "cell_type": "code",
   "execution_count": null,
   "id": "e9b599a7",
   "metadata": {},
   "outputs": [],
   "source": []
  }
 ],
 "metadata": {
  "kernelspec": {
   "display_name": "Python 3 (ipykernel)",
   "language": "python",
   "name": "python3"
  },
  "language_info": {
   "codemirror_mode": {
    "name": "ipython",
    "version": 3
   },
   "file_extension": ".py",
   "mimetype": "text/x-python",
   "name": "python",
   "nbconvert_exporter": "python",
   "pygments_lexer": "ipython3",
   "version": "3.9.12"
  }
 },
 "nbformat": 4,
 "nbformat_minor": 5
}
