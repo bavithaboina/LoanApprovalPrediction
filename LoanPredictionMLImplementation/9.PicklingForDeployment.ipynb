{
 "cells": [
  {
   "cell_type": "markdown",
   "id": "24b6f329",
   "metadata": {},
   "source": [
    "### lets deploy RF model with hyper parameter tuning\n",
    "it gave me a better validation accuracy 80%"
   ]
  },
  {
   "cell_type": "code",
   "execution_count": 1,
   "id": "e4af38c4",
   "metadata": {},
   "outputs": [],
   "source": [
    "import pandas as pd \n",
    "import numpy as np                     # For mathematical calculations \n",
    "import seaborn as sns                  # For data visualization \n",
    "import matplotlib.pyplot as plt        # For plotting graphs \n",
    "%matplotlib inline \n",
    "import warnings                        # To ignore any warnings\n",
    "warnings.filterwarnings(\"ignore\")"
   ]
  },
  {
   "cell_type": "code",
   "execution_count": 2,
   "id": "d9adeb15",
   "metadata": {},
   "outputs": [],
   "source": [
    "train=pd.read_csv(\"train_FE2.csv\") \n",
    "test=pd.read_csv(\"test_FE2.csv\")"
   ]
  },
  {
   "cell_type": "code",
   "execution_count": 3,
   "id": "9af60970",
   "metadata": {},
   "outputs": [],
   "source": [
    "train=train.drop('Loan_ID',axis=1) \n",
    "test=test.drop('Loan_ID',axis=1)"
   ]
  },
  {
   "cell_type": "code",
   "execution_count": 4,
   "id": "01ea4a99",
   "metadata": {},
   "outputs": [],
   "source": [
    "X = train.drop('Loan_Status',1) \n",
    "y = train.Loan_Status"
   ]
  },
  {
   "cell_type": "code",
   "execution_count": 6,
   "id": "597dbad3",
   "metadata": {},
   "outputs": [],
   "source": [
    "from sklearn.ensemble import RandomForestClassifier\n",
    "from sklearn.model_selection import StratifiedKFold\n",
    "from sklearn.metrics import accuracy_score"
   ]
  },
  {
   "cell_type": "code",
   "execution_count": 7,
   "id": "a338e024",
   "metadata": {},
   "outputs": [
    {
     "name": "stdout",
     "output_type": "stream",
     "text": [
      "n1 of kfold 5\n",
      "accuracy_score 0.8211382113821138\n",
      "n2 of kfold 5\n",
      "accuracy_score 0.8455284552845529\n",
      "n3 of kfold 5\n",
      "accuracy_score 0.7886178861788617\n",
      "n4 of kfold 5\n",
      "accuracy_score 0.7886178861788617\n",
      "n5 of kfold 5\n",
      "accuracy_score 0.7786885245901639\n",
      "mean validation accuracy 0.8045181927229107\n"
     ]
    }
   ],
   "source": [
    "i=1 \n",
    "mean_validation_score=0\n",
    "kf = StratifiedKFold(n_splits=5,random_state=1,shuffle=True) \n",
    "for train_index,test_index in kf.split(X,y): \n",
    "    print('n{} of kfold {}'.format(i,kf.n_splits)) \n",
    "    xtr,xvl = X.loc[train_index],X.loc[test_index] \n",
    "    ytr,yvl = y[train_index],y[test_index] \n",
    "    model = RandomForestClassifier(random_state=1, max_depth=7, n_estimators=61)     \n",
    "    model.fit(xtr, ytr) \n",
    "    pred_test = model.predict(xvl) \n",
    "    score = accuracy_score(yvl,pred_test) \n",
    "    print('accuracy_score',score) \n",
    "    i+=1 \n",
    "    mean_validation_score+=score\n",
    "print(\"mean validation accuracy\",mean_validation_score/5)\n",
    "\n",
    "pred_test = model.predict(test) \n",
    "pred2 =  model.predict_proba(test)\n",
    "#pred2     "
   ]
  },
  {
   "cell_type": "markdown",
   "id": "478d22aa",
   "metadata": {},
   "source": [
    "## Pickling The Model file For Deployment"
   ]
  },
  {
   "cell_type": "code",
   "execution_count": 8,
   "id": "2d7d61c8",
   "metadata": {},
   "outputs": [],
   "source": [
    "import pickle"
   ]
  },
  {
   "cell_type": "code",
   "execution_count": 12,
   "id": "2482a13c",
   "metadata": {},
   "outputs": [],
   "source": [
    "pickle.dump(model,open('RFmodel.pkl',\"wb\"))"
   ]
  },
  {
   "cell_type": "code",
   "execution_count": 14,
   "id": "aa1d14e3",
   "metadata": {},
   "outputs": [],
   "source": [
    "pickled_model=pickle.load(open('RFmodel.pkl','rb'))"
   ]
  },
  {
   "cell_type": "code",
   "execution_count": 23,
   "id": "9fa883b3",
   "metadata": {},
   "outputs": [
    {
     "data": {
      "text/plain": [
       "array([0], dtype=int64)"
      ]
     },
     "execution_count": 23,
     "metadata": {},
     "output_type": "execute_result"
    }
   ],
   "source": [
    "## Prediction\n",
    "pickled_model.predict(test.loc[7].values.reshape(1, -1))"
   ]
  },
  {
   "cell_type": "code",
   "execution_count": 26,
   "id": "b27d09b1",
   "metadata": {},
   "outputs": [
    {
     "data": {
      "text/plain": [
       "array([1], dtype=int64)"
      ]
     },
     "execution_count": 26,
     "metadata": {},
     "output_type": "execute_result"
    }
   ],
   "source": [
    "pickled_model.predict(test.loc[0].values.reshape(1, -1))"
   ]
  },
  {
   "cell_type": "code",
   "execution_count": 20,
   "id": "4ec89330",
   "metadata": {},
   "outputs": [
    {
     "data": {
      "text/plain": [
       "array([1.00000000e+00, 4.70048037e+00, 0.00000000e+00, 1.00000000e+00,\n",
       "       0.00000000e+00, 1.00000000e+00, 1.00000000e+00, 0.00000000e+00,\n",
       "       0.00000000e+00, 0.00000000e+00, 1.00000000e+00, 0.00000000e+00,\n",
       "       1.00000000e+00, 0.00000000e+00, 0.00000000e+00, 0.00000000e+00,\n",
       "       1.00000000e+00, 5.72000000e+03, 8.65172408e+00, 3.05555556e-01,\n",
       "       5.41444444e+03])"
      ]
     },
     "execution_count": 20,
     "metadata": {},
     "output_type": "execute_result"
    }
   ],
   "source": [
    "test.loc[0].values"
   ]
  },
  {
   "cell_type": "code",
   "execution_count": null,
   "id": "e4c923f3",
   "metadata": {},
   "outputs": [],
   "source": []
  }
 ],
 "metadata": {
  "kernelspec": {
   "display_name": "Python 3.7.0 (conda)",
   "language": "python",
   "name": "python3"
  },
  "language_info": {
   "codemirror_mode": {
    "name": "ipython",
    "version": 3
   },
   "file_extension": ".py",
   "mimetype": "text/x-python",
   "name": "python",
   "nbconvert_exporter": "python",
   "pygments_lexer": "ipython3",
   "version": "3.7.0"
  },
  "vscode": {
   "interpreter": {
    "hash": "f15b01bc7b8c6b7f4a3705127ed7205bd938dc4f41708bbf04b9ff4cb2894a12"
   }
  }
 },
 "nbformat": 4,
 "nbformat_minor": 5
}
