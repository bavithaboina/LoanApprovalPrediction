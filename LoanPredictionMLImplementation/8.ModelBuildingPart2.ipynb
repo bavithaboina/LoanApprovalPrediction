{
 "cells": [
  {
   "cell_type": "markdown",
   "id": "42a4eff1",
   "metadata": {},
   "source": [
    "## Model Building: Part 2"
   ]
  },
  {
   "cell_type": "markdown",
   "id": "304fb597",
   "metadata": {},
   "source": [
    "After creating new features, we can continue the model-building process. So we will start with the decision tree model and then move over to more complex models like RandomForest and XGBoost.\n",
    "\n",
    "We will build the following models in this section.\n",
    "\n",
    "* Decision Tree\n",
    "* Random Forest\n",
    "* XGBoost"
   ]
  },
  {
   "cell_type": "code",
   "execution_count": 1,
   "id": "710cc65c",
   "metadata": {},
   "outputs": [],
   "source": [
    "import pandas as pd \n",
    "import numpy as np                     # For mathematical calculations \n",
    "import seaborn as sns                  # For data visualization \n",
    "import matplotlib.pyplot as plt        # For plotting graphs \n",
    "%matplotlib inline \n",
    "import warnings                        # To ignore any warnings\n",
    "warnings.filterwarnings(\"ignore\")"
   ]
  },
  {
   "cell_type": "code",
   "execution_count": 12,
   "id": "6fed0b18",
   "metadata": {},
   "outputs": [],
   "source": [
    "train=pd.read_csv(\"train_FE2.csv\") \n",
    "test=pd.read_csv(\"test_FE2.csv\")"
   ]
  },
  {
   "cell_type": "code",
   "execution_count": 13,
   "id": "a1a83acf",
   "metadata": {},
   "outputs": [],
   "source": [
    "train=train.drop('Loan_ID',axis=1) \n",
    "test=test.drop('Loan_ID',axis=1)"
   ]
  },
  {
   "cell_type": "code",
   "execution_count": 14,
   "id": "34cabc21",
   "metadata": {},
   "outputs": [],
   "source": [
    "X = train.drop('Loan_Status',1) \n",
    "y = train.Loan_Status"
   ]
  },
  {
   "cell_type": "markdown",
   "id": "a400d9ab",
   "metadata": {},
   "source": [
    "### Decision Tree\n",
    "A decision tree is a type of supervised learning algorithm(having a pre-defined target variable) that is mostly used in classification problems. In this technique, we split the population or sample into two or more homogeneous sets(or sub-populations) based on the most significant splitter/differentiator in input variables.\n",
    "\n",
    "Decision trees use multiple algorithms to decide to split a node into two or more sub-nodes. The creation of sub-nodes increases the homogeneity of resultant sub-nodes. In other words, we can say that purity of the node increases with respect to the target variable."
   ]
  },
  {
   "cell_type": "code",
   "execution_count": 17,
   "id": "7fbd9b03",
   "metadata": {},
   "outputs": [],
   "source": [
    "from sklearn.tree import DecisionTreeClassifier\n",
    "from sklearn.model_selection import StratifiedKFold\n",
    "from sklearn.metrics import accuracy_score"
   ]
  },
  {
   "cell_type": "code",
   "execution_count": 26,
   "id": "78e6417c",
   "metadata": {},
   "outputs": [
    {
     "name": "stdout",
     "output_type": "stream",
     "text": [
      "n1 of kfold 5\n",
      "accuracy_score 0.7317073170731707\n",
      "n2 of kfold 5\n",
      "accuracy_score 0.7154471544715447\n",
      "n3 of kfold 5\n",
      "accuracy_score 0.7479674796747967\n",
      "n4 of kfold 5\n",
      "accuracy_score 0.7317073170731707\n",
      "n5 of kfold 5\n",
      "accuracy_score 0.6475409836065574\n",
      "mean validation accuracy 0.7148740503798481\n"
     ]
    }
   ],
   "source": [
    "# Let’s fit the decision tree model with 5 folds of cross-validation.\n",
    "i=1 \n",
    "mean_validation_score=0\n",
    "kf = StratifiedKFold(n_splits=5,random_state=1,shuffle=True) \n",
    "for train_index,test_index in kf.split(X,y): \n",
    "    print('n{} of kfold {}'.format(i,kf.n_splits)) \n",
    "    xtr,xvl = X.loc[train_index],X.loc[test_index] \n",
    "    ytr,yvl = y[train_index],y[test_index] \n",
    "    model = DecisionTreeClassifier(random_state=1) \n",
    "    model.fit(xtr, ytr) \n",
    "    pred_test = model.predict(xvl) \n",
    "    score = accuracy_score(yvl,pred_test) \n",
    "    print('accuracy_score',score) \n",
    "    i+=1 \n",
    "    mean_validation_score+=score\n",
    "print(\"mean validation accuracy\",mean_validation_score/5)\n",
    "pred_test = model.predict(test) \n"
   ]
  },
  {
   "cell_type": "code",
   "execution_count": 19,
   "id": "41ae9a8f",
   "metadata": {},
   "outputs": [
    {
     "data": {
      "text/plain": [
       "1    248\n",
       "0    119\n",
       "dtype: int64"
      ]
     },
     "execution_count": 19,
     "metadata": {},
     "output_type": "execute_result"
    }
   ],
   "source": [
    "pd.DataFrame(pred_test).value_counts()"
   ]
  },
  {
   "cell_type": "markdown",
   "id": "aebe59b9",
   "metadata": {},
   "source": [
    "By submitting We got an accuracy of 0.69 which is much lesser than the accuracy of the Logistic Regression model.\n",
    "\n",
    "So let’s build another model, i.e. Random Forest, a tree-based ensemble algorithm and try to improve our model by improving the accuracy."
   ]
  },
  {
   "cell_type": "markdown",
   "id": "8e85e601",
   "metadata": {},
   "source": [
    "### Random Forest\n",
    "* RandomForest is a tree-based bootstrapping algorithm wherein a certain no. of weak learners (decision trees) are combined to make a powerful prediction model.\n",
    "* For every individual learner, a random sample of rows and a few randomly chosen variables are used to build a decision tree model.\n",
    "* The final prediction can be a function of all the predictions made by the individual learners.\n",
    "* In the case of a regression problem, the final prediction can be the mean of all the predictions."
   ]
  },
  {
   "cell_type": "code",
   "execution_count": 22,
   "id": "0af00577",
   "metadata": {},
   "outputs": [],
   "source": [
    "from sklearn.ensemble import RandomForestClassifier\n",
    "from sklearn.model_selection import StratifiedKFold\n",
    "from sklearn.metrics import accuracy_score"
   ]
  },
  {
   "cell_type": "code",
   "execution_count": 25,
   "id": "8c237dbb",
   "metadata": {},
   "outputs": [
    {
     "name": "stdout",
     "output_type": "stream",
     "text": [
      "n1 of kfold 5\n",
      "accuracy_score 0.8211382113821138\n",
      "n2 of kfold 5\n",
      "accuracy_score 0.7967479674796748\n",
      "n3 of kfold 5\n",
      "accuracy_score 0.7886178861788617\n",
      "n4 of kfold 5\n",
      "accuracy_score 0.7967479674796748\n",
      "n5 of kfold 5\n",
      "accuracy_score 0.7622950819672131\n",
      "mean validation accuracy 0.7931094228975076\n"
     ]
    }
   ],
   "source": [
    "i=1 \n",
    "mean_validation_score=0\n",
    "kf = StratifiedKFold(n_splits=5,random_state=1,shuffle=True) \n",
    "for train_index,test_index in kf.split(X,y): \n",
    "    print('n{} of kfold {}'.format(i,kf.n_splits)) \n",
    "    xtr,xvl = X.loc[train_index],X.loc[test_index] \n",
    "    ytr,yvl = y[train_index],y[test_index] \n",
    "    model = RandomForestClassifier(random_state=1, max_depth=10)     \n",
    "    model.fit(xtr, ytr) \n",
    "    pred_test = model.predict(xvl) \n",
    "    score = accuracy_score(yvl,pred_test) \n",
    "    print('accuracy_score',score) \n",
    "    i+=1\n",
    "    mean_validation_score+=score\n",
    "print(\"mean validation accuracy\",mean_validation_score/5)\n",
    "pred_test = model.predict(test)"
   ]
  },
  {
   "cell_type": "code",
   "execution_count": 27,
   "id": "39be6b53",
   "metadata": {},
   "outputs": [
    {
     "data": {
      "text/plain": [
       "1    248\n",
       "0    119\n",
       "dtype: int64"
      ]
     },
     "execution_count": 27,
     "metadata": {},
     "output_type": "execute_result"
    }
   ],
   "source": [
    "pd.DataFrame(pred_test).value_counts()"
   ]
  },
  {
   "cell_type": "markdown",
   "id": "bb1e8921",
   "metadata": {},
   "source": [
    "We will try to improve the accuracy by tuning the hyperparameters for this model. We will use grid search to get the optimized values of hyperparameters. Grid-search is a way to select the best of a family of hyperparameters, parametrized by a grid of parameters.\n",
    "\n",
    "We will tune the max_depth and n_estimators parameters. max_depth decides the maximum depth of the tree and n_estimators decides the number of trees that will be used in the random forest model."
   ]
  },
  {
   "cell_type": "code",
   "execution_count": 30,
   "id": "ccc01f3e",
   "metadata": {},
   "outputs": [],
   "source": [
    "from sklearn.model_selection import GridSearchCV\n",
    "from sklearn.model_selection import train_test_split\n",
    "x_train, x_cv, y_train, y_cv = train_test_split(X,y, test_size =0.3)"
   ]
  },
  {
   "cell_type": "code",
   "execution_count": 31,
   "id": "7566c3c1",
   "metadata": {},
   "outputs": [
    {
     "data": {
      "text/html": [
       "<style>#sk-container-id-1 {color: black;background-color: white;}#sk-container-id-1 pre{padding: 0;}#sk-container-id-1 div.sk-toggleable {background-color: white;}#sk-container-id-1 label.sk-toggleable__label {cursor: pointer;display: block;width: 100%;margin-bottom: 0;padding: 0.3em;box-sizing: border-box;text-align: center;}#sk-container-id-1 label.sk-toggleable__label-arrow:before {content: \"▸\";float: left;margin-right: 0.25em;color: #696969;}#sk-container-id-1 label.sk-toggleable__label-arrow:hover:before {color: black;}#sk-container-id-1 div.sk-estimator:hover label.sk-toggleable__label-arrow:before {color: black;}#sk-container-id-1 div.sk-toggleable__content {max-height: 0;max-width: 0;overflow: hidden;text-align: left;background-color: #f0f8ff;}#sk-container-id-1 div.sk-toggleable__content pre {margin: 0.2em;color: black;border-radius: 0.25em;background-color: #f0f8ff;}#sk-container-id-1 input.sk-toggleable__control:checked~div.sk-toggleable__content {max-height: 200px;max-width: 100%;overflow: auto;}#sk-container-id-1 input.sk-toggleable__control:checked~label.sk-toggleable__label-arrow:before {content: \"▾\";}#sk-container-id-1 div.sk-estimator input.sk-toggleable__control:checked~label.sk-toggleable__label {background-color: #d4ebff;}#sk-container-id-1 div.sk-label input.sk-toggleable__control:checked~label.sk-toggleable__label {background-color: #d4ebff;}#sk-container-id-1 input.sk-hidden--visually {border: 0;clip: rect(1px 1px 1px 1px);clip: rect(1px, 1px, 1px, 1px);height: 1px;margin: -1px;overflow: hidden;padding: 0;position: absolute;width: 1px;}#sk-container-id-1 div.sk-estimator {font-family: monospace;background-color: #f0f8ff;border: 1px dotted black;border-radius: 0.25em;box-sizing: border-box;margin-bottom: 0.5em;}#sk-container-id-1 div.sk-estimator:hover {background-color: #d4ebff;}#sk-container-id-1 div.sk-parallel-item::after {content: \"\";width: 100%;border-bottom: 1px solid gray;flex-grow: 1;}#sk-container-id-1 div.sk-label:hover label.sk-toggleable__label {background-color: #d4ebff;}#sk-container-id-1 div.sk-serial::before {content: \"\";position: absolute;border-left: 1px solid gray;box-sizing: border-box;top: 0;bottom: 0;left: 50%;z-index: 0;}#sk-container-id-1 div.sk-serial {display: flex;flex-direction: column;align-items: center;background-color: white;padding-right: 0.2em;padding-left: 0.2em;position: relative;}#sk-container-id-1 div.sk-item {position: relative;z-index: 1;}#sk-container-id-1 div.sk-parallel {display: flex;align-items: stretch;justify-content: center;background-color: white;position: relative;}#sk-container-id-1 div.sk-item::before, #sk-container-id-1 div.sk-parallel-item::before {content: \"\";position: absolute;border-left: 1px solid gray;box-sizing: border-box;top: 0;bottom: 0;left: 50%;z-index: -1;}#sk-container-id-1 div.sk-parallel-item {display: flex;flex-direction: column;z-index: 1;position: relative;background-color: white;}#sk-container-id-1 div.sk-parallel-item:first-child::after {align-self: flex-end;width: 50%;}#sk-container-id-1 div.sk-parallel-item:last-child::after {align-self: flex-start;width: 50%;}#sk-container-id-1 div.sk-parallel-item:only-child::after {width: 0;}#sk-container-id-1 div.sk-dashed-wrapped {border: 1px dashed gray;margin: 0 0.4em 0.5em 0.4em;box-sizing: border-box;padding-bottom: 0.4em;background-color: white;}#sk-container-id-1 div.sk-label label {font-family: monospace;font-weight: bold;display: inline-block;line-height: 1.2em;}#sk-container-id-1 div.sk-label-container {text-align: center;}#sk-container-id-1 div.sk-container {/* jupyter's `normalize.less` sets `[hidden] { display: none; }` but bootstrap.min.css set `[hidden] { display: none !important; }` so we also need the `!important` here to be able to override the default hidden behavior on the sphinx rendered scikit-learn.org. See: https://github.com/scikit-learn/scikit-learn/issues/21755 */display: inline-block !important;position: relative;}#sk-container-id-1 div.sk-text-repr-fallback {display: none;}</style><div id=\"sk-container-id-1\" class=\"sk-top-container\"><div class=\"sk-text-repr-fallback\"><pre>GridSearchCV(estimator=RandomForestClassifier(random_state=1),\n",
       "             param_grid={&#x27;max_depth&#x27;: [1, 3, 5, 7, 9, 11, 13, 15, 17, 19],\n",
       "                         &#x27;n_estimators&#x27;: [1, 21, 41, 61, 81, 101, 121, 141, 161,\n",
       "                                          181]})</pre><b>In a Jupyter environment, please rerun this cell to show the HTML representation or trust the notebook. <br />On GitHub, the HTML representation is unable to render, please try loading this page with nbviewer.org.</b></div><div class=\"sk-container\" hidden><div class=\"sk-item sk-dashed-wrapped\"><div class=\"sk-label-container\"><div class=\"sk-label sk-toggleable\"><input class=\"sk-toggleable__control sk-hidden--visually\" id=\"sk-estimator-id-1\" type=\"checkbox\" ><label for=\"sk-estimator-id-1\" class=\"sk-toggleable__label sk-toggleable__label-arrow\">GridSearchCV</label><div class=\"sk-toggleable__content\"><pre>GridSearchCV(estimator=RandomForestClassifier(random_state=1),\n",
       "             param_grid={&#x27;max_depth&#x27;: [1, 3, 5, 7, 9, 11, 13, 15, 17, 19],\n",
       "                         &#x27;n_estimators&#x27;: [1, 21, 41, 61, 81, 101, 121, 141, 161,\n",
       "                                          181]})</pre></div></div></div><div class=\"sk-parallel\"><div class=\"sk-parallel-item\"><div class=\"sk-item\"><div class=\"sk-label-container\"><div class=\"sk-label sk-toggleable\"><input class=\"sk-toggleable__control sk-hidden--visually\" id=\"sk-estimator-id-2\" type=\"checkbox\" ><label for=\"sk-estimator-id-2\" class=\"sk-toggleable__label sk-toggleable__label-arrow\">estimator: RandomForestClassifier</label><div class=\"sk-toggleable__content\"><pre>RandomForestClassifier(random_state=1)</pre></div></div></div><div class=\"sk-serial\"><div class=\"sk-item\"><div class=\"sk-estimator sk-toggleable\"><input class=\"sk-toggleable__control sk-hidden--visually\" id=\"sk-estimator-id-3\" type=\"checkbox\" ><label for=\"sk-estimator-id-3\" class=\"sk-toggleable__label sk-toggleable__label-arrow\">RandomForestClassifier</label><div class=\"sk-toggleable__content\"><pre>RandomForestClassifier(random_state=1)</pre></div></div></div></div></div></div></div></div></div></div>"
      ],
      "text/plain": [
       "GridSearchCV(estimator=RandomForestClassifier(random_state=1),\n",
       "             param_grid={'max_depth': [1, 3, 5, 7, 9, 11, 13, 15, 17, 19],\n",
       "                         'n_estimators': [1, 21, 41, 61, 81, 101, 121, 141, 161,\n",
       "                                          181]})"
      ]
     },
     "execution_count": 31,
     "metadata": {},
     "output_type": "execute_result"
    }
   ],
   "source": [
    "## Provide range for max_depth from 1 to 20 with an interval of 2 and from 1 to 200 with an interval of 20 for n_estimators\n",
    "paramgrid = {'max_depth': list(range(1, 20, 2)), \n",
    "                    'n_estimators': list(range(1, 200, 20))}\n",
    "grid_search=GridSearchCV(RandomForestClassifier(random_state=1),paramgrid)\n",
    "# Fit the grid search model \n",
    "grid_search.fit(x_train,y_train)"
   ]
  },
  {
   "cell_type": "code",
   "execution_count": 32,
   "id": "8511d5b5",
   "metadata": {},
   "outputs": [
    {
     "data": {
      "text/html": [
       "<style>#sk-container-id-2 {color: black;background-color: white;}#sk-container-id-2 pre{padding: 0;}#sk-container-id-2 div.sk-toggleable {background-color: white;}#sk-container-id-2 label.sk-toggleable__label {cursor: pointer;display: block;width: 100%;margin-bottom: 0;padding: 0.3em;box-sizing: border-box;text-align: center;}#sk-container-id-2 label.sk-toggleable__label-arrow:before {content: \"▸\";float: left;margin-right: 0.25em;color: #696969;}#sk-container-id-2 label.sk-toggleable__label-arrow:hover:before {color: black;}#sk-container-id-2 div.sk-estimator:hover label.sk-toggleable__label-arrow:before {color: black;}#sk-container-id-2 div.sk-toggleable__content {max-height: 0;max-width: 0;overflow: hidden;text-align: left;background-color: #f0f8ff;}#sk-container-id-2 div.sk-toggleable__content pre {margin: 0.2em;color: black;border-radius: 0.25em;background-color: #f0f8ff;}#sk-container-id-2 input.sk-toggleable__control:checked~div.sk-toggleable__content {max-height: 200px;max-width: 100%;overflow: auto;}#sk-container-id-2 input.sk-toggleable__control:checked~label.sk-toggleable__label-arrow:before {content: \"▾\";}#sk-container-id-2 div.sk-estimator input.sk-toggleable__control:checked~label.sk-toggleable__label {background-color: #d4ebff;}#sk-container-id-2 div.sk-label input.sk-toggleable__control:checked~label.sk-toggleable__label {background-color: #d4ebff;}#sk-container-id-2 input.sk-hidden--visually {border: 0;clip: rect(1px 1px 1px 1px);clip: rect(1px, 1px, 1px, 1px);height: 1px;margin: -1px;overflow: hidden;padding: 0;position: absolute;width: 1px;}#sk-container-id-2 div.sk-estimator {font-family: monospace;background-color: #f0f8ff;border: 1px dotted black;border-radius: 0.25em;box-sizing: border-box;margin-bottom: 0.5em;}#sk-container-id-2 div.sk-estimator:hover {background-color: #d4ebff;}#sk-container-id-2 div.sk-parallel-item::after {content: \"\";width: 100%;border-bottom: 1px solid gray;flex-grow: 1;}#sk-container-id-2 div.sk-label:hover label.sk-toggleable__label {background-color: #d4ebff;}#sk-container-id-2 div.sk-serial::before {content: \"\";position: absolute;border-left: 1px solid gray;box-sizing: border-box;top: 0;bottom: 0;left: 50%;z-index: 0;}#sk-container-id-2 div.sk-serial {display: flex;flex-direction: column;align-items: center;background-color: white;padding-right: 0.2em;padding-left: 0.2em;position: relative;}#sk-container-id-2 div.sk-item {position: relative;z-index: 1;}#sk-container-id-2 div.sk-parallel {display: flex;align-items: stretch;justify-content: center;background-color: white;position: relative;}#sk-container-id-2 div.sk-item::before, #sk-container-id-2 div.sk-parallel-item::before {content: \"\";position: absolute;border-left: 1px solid gray;box-sizing: border-box;top: 0;bottom: 0;left: 50%;z-index: -1;}#sk-container-id-2 div.sk-parallel-item {display: flex;flex-direction: column;z-index: 1;position: relative;background-color: white;}#sk-container-id-2 div.sk-parallel-item:first-child::after {align-self: flex-end;width: 50%;}#sk-container-id-2 div.sk-parallel-item:last-child::after {align-self: flex-start;width: 50%;}#sk-container-id-2 div.sk-parallel-item:only-child::after {width: 0;}#sk-container-id-2 div.sk-dashed-wrapped {border: 1px dashed gray;margin: 0 0.4em 0.5em 0.4em;box-sizing: border-box;padding-bottom: 0.4em;background-color: white;}#sk-container-id-2 div.sk-label label {font-family: monospace;font-weight: bold;display: inline-block;line-height: 1.2em;}#sk-container-id-2 div.sk-label-container {text-align: center;}#sk-container-id-2 div.sk-container {/* jupyter's `normalize.less` sets `[hidden] { display: none; }` but bootstrap.min.css set `[hidden] { display: none !important; }` so we also need the `!important` here to be able to override the default hidden behavior on the sphinx rendered scikit-learn.org. See: https://github.com/scikit-learn/scikit-learn/issues/21755 */display: inline-block !important;position: relative;}#sk-container-id-2 div.sk-text-repr-fallback {display: none;}</style><div id=\"sk-container-id-2\" class=\"sk-top-container\"><div class=\"sk-text-repr-fallback\"><pre>RandomForestClassifier(max_depth=7, n_estimators=61, random_state=1)</pre><b>In a Jupyter environment, please rerun this cell to show the HTML representation or trust the notebook. <br />On GitHub, the HTML representation is unable to render, please try loading this page with nbviewer.org.</b></div><div class=\"sk-container\" hidden><div class=\"sk-item\"><div class=\"sk-estimator sk-toggleable\"><input class=\"sk-toggleable__control sk-hidden--visually\" id=\"sk-estimator-id-4\" type=\"checkbox\" checked><label for=\"sk-estimator-id-4\" class=\"sk-toggleable__label sk-toggleable__label-arrow\">RandomForestClassifier</label><div class=\"sk-toggleable__content\"><pre>RandomForestClassifier(max_depth=7, n_estimators=61, random_state=1)</pre></div></div></div></div></div>"
      ],
      "text/plain": [
       "RandomForestClassifier(max_depth=7, n_estimators=61, random_state=1)"
      ]
     },
     "execution_count": 32,
     "metadata": {},
     "output_type": "execute_result"
    }
   ],
   "source": [
    "grid_search.best_estimator_"
   ]
  },
  {
   "cell_type": "markdown",
   "id": "0fd0d33e",
   "metadata": {},
   "source": [
    "So, the optimized value for the max_depth variable is 7 and for n_estimator is 61. Now let’s build the model using these optimized values."
   ]
  },
  {
   "cell_type": "code",
   "execution_count": 60,
   "id": "527e9f55",
   "metadata": {},
   "outputs": [
    {
     "name": "stdout",
     "output_type": "stream",
     "text": [
      "n1 of kfold 5\n",
      "accuracy_score 0.8211382113821138\n",
      "n2 of kfold 5\n",
      "accuracy_score 0.8455284552845529\n",
      "n3 of kfold 5\n",
      "accuracy_score 0.7886178861788617\n",
      "n4 of kfold 5\n",
      "accuracy_score 0.7886178861788617\n",
      "n5 of kfold 5\n",
      "accuracy_score 0.7786885245901639\n",
      "mean validation accuracy 0.8045181927229107\n"
     ]
    }
   ],
   "source": [
    "i=1 \n",
    "mean_validation_score=0\n",
    "kf = StratifiedKFold(n_splits=5,random_state=1,shuffle=True) \n",
    "for train_index,test_index in kf.split(X,y): \n",
    "    print('n{} of kfold {}'.format(i,kf.n_splits)) \n",
    "    xtr,xvl = X.loc[train_index],X.loc[test_index] \n",
    "    ytr,yvl = y[train_index],y[test_index] \n",
    "    model = RandomForestClassifier(random_state=1, max_depth=7, n_estimators=61)     \n",
    "    model.fit(xtr, ytr) \n",
    "    pred_test = model.predict(xvl) \n",
    "    score = accuracy_score(yvl,pred_test) \n",
    "    print('accuracy_score',score) \n",
    "    i+=1 \n",
    "    mean_validation_score+=score\n",
    "print(\"mean validation accuracy\",mean_validation_score/5)\n",
    "\n",
    "pred_test = model.predict(test) \n",
    "pred2 =  model.predict_proba(test)\n",
    "#pred2                         "
   ]
  },
  {
   "cell_type": "markdown",
   "id": "b2560aa5",
   "metadata": {},
   "source": [
    "We got an accuracy of 0.7638 from the random forest model on the leaderboard."
   ]
  },
  {
   "cell_type": "code",
   "execution_count": 39,
   "id": "d7810943",
   "metadata": {},
   "outputs": [
    {
     "data": {
      "text/plain": [
       "1    304\n",
       "0     63\n",
       "dtype: int64"
      ]
     },
     "execution_count": 39,
     "metadata": {},
     "output_type": "execute_result"
    }
   ],
   "source": [
    "pd.DataFrame(pred_test).value_counts()"
   ]
  },
  {
   "cell_type": "markdown",
   "id": "4fd4e1ca",
   "metadata": {},
   "source": [
    "Let us find the feature importance now, i.e. which features are most important for this problem. We will use the feature_importances_ attribute of sklearn to do so."
   ]
  },
  {
   "cell_type": "code",
   "execution_count": 42,
   "id": "54739a83",
   "metadata": {},
   "outputs": [
    {
     "data": {
      "text/plain": [
       "<AxesSubplot:>"
      ]
     },
     "execution_count": 42,
     "metadata": {},
     "output_type": "execute_result"
    },
    {
     "data": {
      "image/png": "[encoded data removed]",
      "text/plain": [
       "<Figure size 576x360 with 1 Axes>"
      ]
     },
     "metadata": {
      "needs_background": "light"
     },
     "output_type": "display_data"
    }
   ],
   "source": [
    "importances=pd.Series(model.feature_importances_, index=X.columns) \n",
    "importances.plot(kind='barh', figsize=(8,5))"
   ]
  },
  {
   "cell_type": "markdown",
   "id": "3ba00abc",
   "metadata": {},
   "source": [
    "We can see that Credit_History is the most important feature followed by Balance Income, Total Income, and EMI. So, feature engineering helped us in predicting our target variable."
   ]
  },
  {
   "cell_type": "markdown",
   "id": "c98f20ff",
   "metadata": {},
   "source": [
    "## XGBOOST\n",
    "XGBoost is a fast and efficient algorithm and has been used by the winners of many data science competitions. It’s a boosting algorithm and you may refer to the below article to know more about boosting:\n",
    "\n",
    "XGBoost works only with numeric variables and we have already replaced the categorical variables with numeric variables. Let’s have a look at the parameters that we are going to use in our model.\n",
    "\n",
    "* n_estimator: This specifies the number of trees for the model.\n",
    "* max_depth: We can specify the maximum depth of a tree using this parameter."
   ]
  },
  {
   "cell_type": "code",
   "execution_count": 44,
   "id": "8bcf7dcf",
   "metadata": {},
   "outputs": [],
   "source": [
    "from xgboost import XGBClassifier"
   ]
  },
  {
   "cell_type": "code",
   "execution_count": 61,
   "id": "6ebf9aa6",
   "metadata": {},
   "outputs": [
    {
     "name": "stdout",
     "output_type": "stream",
     "text": [
      "n1 of kfold 5\n",
      "accuracy_score 0.7804878048780488\n",
      "n2 of kfold 5\n",
      "accuracy_score 0.7886178861788617\n",
      "n3 of kfold 5\n",
      "accuracy_score 0.7642276422764228\n",
      "n4 of kfold 5\n",
      "accuracy_score 0.7804878048780488\n",
      "n5 of kfold 5\n",
      "accuracy_score 0.7622950819672131\n",
      "mean validation accuracy 0.7752232440357191\n"
     ]
    }
   ],
   "source": [
    "i=1 \n",
    "mean_validation_score=0\n",
    "kf = StratifiedKFold(n_splits=5,random_state=1,shuffle=True) \n",
    "for train_index,test_index in kf.split(X,y): \n",
    "    print('n{} of kfold {}'.format(i,kf.n_splits)) \n",
    "    xtr,xvl = X.loc[train_index],X.loc[test_index] \n",
    "    ytr,yvl = y[train_index],y[test_index] \n",
    "    model = XGBClassifier(n_estimators=50, max_depth=4)     \n",
    "    model.fit(xtr, ytr) \n",
    "    pred_test = model.predict(xvl) \n",
    "    score = accuracy_score(yvl,pred_test) \n",
    "    print('accuracy_score',score) \n",
    "    i+=1 \n",
    "    mean_validation_score+=score\n",
    "print(\"mean validation accuracy\",mean_validation_score/5)\n"
   ]
  },
  {
   "cell_type": "code",
   "execution_count": 62,
   "id": "ee6001c3",
   "metadata": {},
   "outputs": [],
   "source": [
    "pred_test = model.predict(test)\n",
    "pred2 =  model.predict_proba(test)"
   ]
  },
  {
   "cell_type": "code",
   "execution_count": 63,
   "id": "51008591",
   "metadata": {},
   "outputs": [
    {
     "data": {
      "text/plain": [
       "1    291\n",
       "0     76\n",
       "dtype: int64"
      ]
     },
     "execution_count": 63,
     "metadata": {},
     "output_type": "execute_result"
    }
   ],
   "source": [
    "pd.DataFrame(pred_test).value_counts()"
   ]
  },
  {
   "cell_type": "markdown",
   "id": "8eb31b7f",
   "metadata": {},
   "source": [
    "By submitting We got an accuracy of 0.73611 with this model  on the leader board\n"
   ]
  },
  {
   "cell_type": "markdown",
   "id": "0a256be3",
   "metadata": {},
   "source": [
    "## Conclusion\n",
    "There are still quite a many things that can be tried to improve our models’ predictions. We create and add more variables, try different models with a different subset of features and/or rows, etc. Some of the ideas are listed below\n",
    "\n",
    "* We can train the XGBoost model using grid search to optimize its hyperparameters and improve its accuracy.\n",
    "* We can combine the applicants with 1,2,3 or more dependents and make a new feature as discussed in the EDA part.\n",
    "* We can also make independent vs independent variable visualizations to discover some more patterns.\n",
    "* We can also arrive at the EMI using a better formula which may include interest rates as well.\n",
    "* Wecan even try ensemble modeling (a combination of different models). Toread more about ensemble techniques you can refer to these articles"
   ]
  },
  {
   "cell_type": "markdown",
   "id": "20f5a861",
   "metadata": {},
   "source": [
    "## Keytakeaways\n",
    "1. understand the real problem\n",
    "2. Exploratory Data Analysis (EDA) and Pre-Processing\n",
    "3. understand the concept of univariate, bivariate\n",
    "4. how to find outlier points from data\n",
    "5. how to evaluate model using metrics\n",
    "6. we also learn a few techniques of feature engineering\n",
    "7. Model building with few algorithms\n",
    "\n"
   ]
  },
  {
   "cell_type": "code",
   "execution_count": null,
   "id": "3c7fe53a",
   "metadata": {},
   "outputs": [],
   "source": []
  }
 ],
 "metadata": {
  "kernelspec": {
   "display_name": "Python 3 (ipykernel)",
   "language": "python",
   "name": "python3"
  },
  "language_info": {
   "codemirror_mode": {
    "name": "ipython",
    "version": 3
   },
   "file_extension": ".py",
   "mimetype": "text/x-python",
   "name": "python",
   "nbconvert_exporter": "python",
   "pygments_lexer": "ipython3",
   "version": "3.9.12"
  }
 },
 "nbformat": 4,
 "nbformat_minor": 5
}
